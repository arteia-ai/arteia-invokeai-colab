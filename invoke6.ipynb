{
  "nbformat": 4,
  "nbformat_minor": 0,
  "metadata": {
    "colab": {
      "provenance": [],
      "gpuType": "T4"
    },
    "kernelspec": {
      "name": "python3",
      "display_name": "Python 3"
    },
    "language_info": {
      "name": "python"
    },
    "accelerator": "GPU"
  },
  "cells": [
    {
      "cell_type": "markdown",
      "source": [
        "# **<font color=\"orange\">INVOKE 6.0.2</font>**\n",
        "### Por ArteIA 🤖😺🎨  \n",
        "[👉 Visita el canal de YouTube](https://www.youtube.com/@arteia)\n",
        "\n",
        "Este notebook te permite usar **Invoke AI v6.0.2** desde Google Colab, con una interfaz gráfica completa, sin necesidad de instalación local ni conocimientos técnicos.  Está diseñado para que cualquiera pueda generar imágenes con IA desde un navegador, sin importar las características de su equipo."
      ],
      "metadata": {
        "id": "WWTQYvEc9A25"
      }
    },
    {
      "cell_type": "code",
      "execution_count": null,
      "metadata": {
        "id": "fqN8UeMw7syM",
        "cellView": "form"
      },
      "outputs": [],
      "source": [
        "#@markdown ## ⚙️ BLOQUE 1 – Preparar entorno de trabajo\n",
        "#@markdown\n",
        "#@markdown > En este paso vamos a crear la carpeta donde instalaremos Invoke y configurar el entorno virtual.<br>\n",
        "#@markdown > ⏭️ **Ejecuta este bloque y espera a que finalice antes de pasar al siguiente.**\n",
        "\n",
        "---\n",
        "\n",
        "# Creamos la carpeta donde instalaremos Invoke AI\n",
        "!mkdir -p ~/invokeai\n",
        "%cd ~/invokeai\n",
        "\n",
        "# Instalamos virtualenv y creamos el entorno con Python 3\n",
        "!pip install virtualenv\n",
        "!virtualenv .venv --python=python3"
      ]
    },
    {
      "cell_type": "code",
      "source": [
        "#@markdown ## 🔧 BLOQUE 2 – Instalar Invoke AI y Cloudflared\n",
        "#@markdown\n",
        "#@markdown > Vamos a instalar **Invoke AI** y la herramienta **Cloudflared** para acceder a la interfaz web desde cualquier navegador.<br>\n",
        "#@markdown > Esto puede tardar unos minutos.\n",
        "#@markdown > ⏭️ **Ejecuta este bloque y espera a que aparezca “Successfully installed invokeai”.**\n",
        "\n",
        "---\n",
        "\n",
        "# 🔧 BLOQUE 2 – Instalar Invoke AI v6.0.2 desde PyPI\n",
        "# Instalamos Invoke AI directamente desde el índice oficial\n",
        "!.venv/bin/pip install invokeai==6.0.2\n",
        "\n",
        "# Instalamos Cloudflared manualmente desde el repositorio oficial\n",
        "!wget -q https://github.com/cloudflare/cloudflared/releases/latest/download/cloudflared-linux-amd64.deb\n",
        "!dpkg -i cloudflared-linux-amd64.deb"
      ],
      "metadata": {
        "id": "SyGfYCzoCZCX",
        "cellView": "form"
      },
      "execution_count": null,
      "outputs": []
    },
    {
      "cell_type": "code",
      "source": [
        "#@markdown ## 🚀 BLOQUE 3 – Iniciar interfaz web de Invoke AI\n",
        "#@markdown\n",
        "#@markdown > Este es el último paso: crearemos el túnel de acceso y lanzaremos la interfaz de Invoke.<br>\n",
        "#@markdown > 🟢Cuando veas que aparece la dirección `127.0.0.1:9090` <br>\n",
        "#@markdown > &nbsp; &nbsp; &nbsp;pulsa en el enlace tipo `https://xxx.trycloudflare.com` que aparece encima.<br><br>\n",
        "#@markdown > 🔗 Ábrelo en una nueva pestaña para empezar a crear imágenes.  <br>\n",
        "\n",
        "---\n",
        "\n",
        "# 🚀 BLOQUE 3 – Iniciar Invoke AI Web UI con túnel Cloudflare\n",
        "# Iniciamos el túnel de Cloudflare en segundo plano\n",
        "import threading\n",
        "\n",
        "def start_tunnel():\n",
        "  !cloudflared tunnel --url http://localhost:9090 &\n",
        "\n",
        "threading.Thread(target=start_tunnel, daemon=True).start()\n",
        "\n",
        "# Forzamos el backend de matplotlib para evitar errores en entornos sin interfaz\n",
        "import matplotlib\n",
        "matplotlib.use('Agg')\n",
        "\n",
        "# Lanzamos la interfaz web de Invoke AI con backend Agg forzado\n",
        "!MPLBACKEND=Agg .venv/bin/invokeai-web --root ~/invokeai"
      ],
      "metadata": {
        "id": "vSqcSifaE_fY",
        "cellView": "form"
      },
      "execution_count": null,
      "outputs": []
    },
    {
      "cell_type": "markdown",
      "source": [
        "## 🎉 ¡Todo listo!\n",
        "Ya puedes usar la interfaz de Invoke AI para generar imágenes con total libertad.\n",
        "\n",
        "🖼️ Si quieres más tutoriales o contenido exclusivo, visita [ArteIA en YouTube](https://www.youtube.com/@arteia)<br>\n",
        "\n",
        "<br>\n",
        "Este notebook está distribuido bajo licencia Creative Commons <br> Attribution-NonCommercial 4.0 International (CC BY-NC 4.0)\n",
        "<br>\n",
        "©2025 ArteIA\n"
      ],
      "metadata": {
        "id": "Jw1YA-ykviB1"
      }
    }
  ]
}